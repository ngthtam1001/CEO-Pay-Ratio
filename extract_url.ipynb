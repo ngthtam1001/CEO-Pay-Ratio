{
 "cells": [
  {
   "cell_type": "code",
   "execution_count": 2,
   "metadata": {},
   "outputs": [
    {
     "name": "stdout",
     "output_type": "stream",
     "text": [
      "Found .htm Links (Modified in 2018):\n",
      "https://www.sec.gov/Archives/edgar/data/6201/000119312518140891/d479632ddef14a.htm\n"
     ]
    }
   ],
   "source": [
    "import requests\n",
    "from bs4 import BeautifulSoup\n",
    "\n",
    "headers = {\n",
    "    'User-Agent': 'yourname@example.com'\n",
    "}\n",
    "\n",
    "base_url = r\"https://www.sec.gov/Archives/edgar/data\"\n",
    "cik = '/6201/'\n",
    "filing_url = base_url + cik + \"/index.json\"\n",
    "content = requests.get(filing_url, headers=headers)\n",
    "decoded_content = content.json()\n",
    "\n",
    "items = decoded_content.get('directory', {}).get('item', [])\n",
    "filtered_items = []\n",
    "\n",
    "# Filter items modified in 2018\n",
    "for item in items:\n",
    "    if item['last-modified'].startswith('2018'):\n",
    "        filtered_items.append(item['name'])\n",
    "\n",
    "htm_links = []\n",
    "\n",
    "# Go deeper to find .htm files\n",
    "for item in filtered_items:\n",
    "    sub_filing_url = base_url + cik + item + \"/index.json\"\n",
    "    sub_content = requests.get(sub_filing_url, headers=headers)\n",
    "\n",
    "    if sub_content.status_code == 200:\n",
    "        sub_decoded_content = sub_content.json()\n",
    "        sub_items = sub_decoded_content.get('directory', {}).get('item', [])\n",
    "\n",
    "        for sub_item in sub_items:\n",
    "            if sub_item['name'].endswith('def14a.htm'):\n",
    "                htm_link = base_url + cik + item + \"/\" + sub_item['name']\n",
    "                htm_links.append(htm_link)\n",
    "\n",
    "# Print the found .htm links\n",
    "print(\"Found .htm Links (Modified in 2018):\")\n",
    "for link in htm_links:\n",
    "    print(link)\n"
   ]
  }
 ],
 "metadata": {
  "kernelspec": {
   "display_name": "Python 3",
   "language": "python",
   "name": "python3"
  },
  "language_info": {
   "codemirror_mode": {
    "name": "ipython",
    "version": 3
   },
   "file_extension": ".py",
   "mimetype": "text/x-python",
   "name": "python",
   "nbconvert_exporter": "python",
   "pygments_lexer": "ipython3",
   "version": "3.12.5"
  }
 },
 "nbformat": 4,
 "nbformat_minor": 2
}
