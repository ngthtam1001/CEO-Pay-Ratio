{
 "cells": [
  {
   "cell_type": "code",
   "execution_count": 31,
   "metadata": {},
   "outputs": [
    {
     "name": "stdout",
     "output_type": "stream",
     "text": [
      "1. CEO's total compensation: The CEO, Mr. David Battat, had a total compensation of $924,464 for the year 2023.\n",
      "\n",
      "2. Median employee's total compensation: The median employee's annual total compensation for 2023 was $44,552.\n",
      "\n",
      "3. CEO pay ratio: The ratio of the annual total compensation of the CEO to the annual total compensation of the median employee for 2023 was 20.75 to 1.\n",
      "\n",
      "4. Other relevant information: The company identified the median employee by examining the 2023 total cash compensation for all individuals, excluding the CEO, who were employed by the company on December 31, 2023. The company included all employees, regardless of their employment status (full-time, part-time, or seasonal) and did not make any assumptions, adjustments, or estimates in determining the median employee or total cash compensation. Additionally, the company did not annualize the compensation of any full-time employees who were not employed for the entire year 2023.\n"
     ]
    }
   ],
   "source": [
    "import openai\n",
    "\n",
    "# Set your OpenAI API key here\n",
    "API_KEY = ''  # Make sure to set your API key here\n",
    "\n",
    "# The input text # Replace with your actual API key\n",
    "\n",
    "# The input text\n",
    "input_text = \"\"\"\n",
    "pay ratio disclosure\n",
    "pursuant to item 402(u) of regulation s-k under the exchange act, we are providing the following information about the relationship of the annual total compensation of our employees and the annual total compensation of our chief executive officer, mr. david battat. for 2023, our chief executive officer had total compensation of $924,464 as reflected in the summary compensation table above. we determined that our median employee's annual total compensation was $44,552 for 2023. as a result, the ratio of the annual total compensation of our chief executive officer to the annual total compensation of our median employee for 2023 was 20.75 to 1. we identified our median employee by examining the 2023 total cash compensation for all individuals, excluding our chief executive officer, who were employed by us on december 31, 2023. we included all employees, whether employed on a full-time, part-time, or seasonal basis. we did not make any assumptions, adjustments, or estimates in identifying the median employee or with respect to total cash compensation, and we did not annualize the compensation of any full-time employees who were not employed by us for all of 2023.\n",
    "\"\"\"\n",
    "\n",
    "# Function to generate information using GPT\n",
    "def generate_info(prompt):\n",
    "    client = openai.OpenAI(api_key=API_KEY)  # Create a client instance with the API key\n",
    "    response = client.chat.completions.create(\n",
    "        model=\"gpt-3.5-turbo\",\n",
    "        messages=[\n",
    "            {\"role\": \"system\", \"content\": \"You are a helpful assistant that extracts and summarizes financial information.\"},\n",
    "            {\"role\": \"user\", \"content\": prompt}\n",
    "        ],\n",
    "        max_tokens=300,\n",
    "        n=1,\n",
    "        stop=None,\n",
    "        temperature=0.7,\n",
    "    )\n",
    "    return response.choices[0].message.content.strip()\n",
    "\n",
    "# Generate information about CEO pay ratio, executive compensation, and related salary information\n",
    "prompt = f\"\"\"\n",
    "Extract and summarize information about CEO pay ratio, executive compensation, and related salary information from the following text:\n",
    "\n",
    "{input_text}\n",
    "\n",
    "Please include:\n",
    "1. CEO's total compensation\n",
    "2. Median employee's total compensation\n",
    "3. CEO pay ratio\n",
    "4. Any other relevant information about executive compensation or salary\n",
    "\"\"\"\n",
    "\n",
    "try:\n",
    "    generated_info = generate_info(prompt)\n",
    "    print(generated_info)\n",
    "except Exception as e:\n",
    "    print(f\"An error occurred: {e}\")"
   ]
  }
 ],
 "metadata": {
  "kernelspec": {
   "display_name": "Python 3",
   "language": "python",
   "name": "python3"
  },
  "language_info": {
   "codemirror_mode": {
    "name": "ipython",
    "version": 3
   },
   "file_extension": ".py",
   "mimetype": "text/x-python",
   "name": "python",
   "nbconvert_exporter": "python",
   "pygments_lexer": "ipython3",
   "version": "3.12.5"
  }
 },
 "nbformat": 4,
 "nbformat_minor": 2
}
